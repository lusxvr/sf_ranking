{
 "cells": [
  {
   "cell_type": "markdown",
   "metadata": {},
   "source": [
    "## Running notebook to test the developed functions"
   ]
  },
  {
   "cell_type": "code",
   "execution_count": null,
   "metadata": {},
   "outputs": [],
   "source": [
    "import matplotlib.pyplot as plt\n",
    "import cv2\n",
    "\n",
    "%load_ext autoreload\n",
    "%autoreload 2\n",
    "\n",
    "from src import symetry_analysis as sa\n",
    "from src import metric_corelation as mc\n",
    "from src import extract_data as ed\n",
    "import os\n",
    "import numpy as np\n",
    "import json"
   ]
  },
  {
   "cell_type": "code",
   "execution_count": null,
   "metadata": {},
   "outputs": [],
   "source": [
    "data_folder = \"data/\"\n",
    "image_files = [os.path.join(data_folder, f) for f in os.listdir(data_folder) if os.path.isfile(os.path.join(data_folder, f)) and f.lower().endswith('.jpg')]\n",
    "scores = {}\n",
    "for path in image_files:\n",
    "    print(path)\n",
    "    image = cv2.imread(path)  \n",
    "    res = sa.pipeline(image)\n",
    "    contours = sa.extract_contour(res)  \n",
    "    score = sa.analyze_symmetry(res, contours, vis=True)\n",
    "    scores[path] = score\n",
    "\n",
    "# Save scores to JSON\n",
    "output_file = \"scores.json\"\n",
    "with open(output_file, 'w') as f:\n",
    "    json.dump(scores, f)"
   ]
  },
  {
   "cell_type": "markdown",
   "metadata": {},
   "source": [
    "## Metric correlation"
   ]
  },
  {
   "cell_type": "code",
   "execution_count": null,
   "metadata": {},
   "outputs": [],
   "source": [
    "ed.extract_votes(\"votes.db\", \"votes.json\")\n",
    "mc.calculate_corr(\"scores.json\", \"votes.json\")"
   ]
  }
 ],
 "metadata": {
  "kernelspec": {
   "display_name": "cv",
   "language": "python",
   "name": "python3"
  },
  "language_info": {
   "codemirror_mode": {
    "name": "ipython",
    "version": 3
   },
   "file_extension": ".py",
   "mimetype": "text/x-python",
   "name": "python",
   "nbconvert_exporter": "python",
   "pygments_lexer": "ipython3",
   "version": "3.12.5"
  }
 },
 "nbformat": 4,
 "nbformat_minor": 2
}
